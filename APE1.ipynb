{
 "cells": [
  {
   "cell_type": "code",
   "execution_count": 1,
   "metadata": {},
   "outputs": [],
   "source": [
    "import os\n",
    "import time\n",
    "import shutil\n",
    "import pandas as pd\n",
    "import win32com.client as client\n",
    "\n",
    "from selenium import webdriver\n",
    "from datetime import datetime\n",
    "from sqlalchemy import create_engine, text\n",
    "from selenium.webdriver.edge.service import Service\n",
    "from selenium.webdriver.support import expected_conditions as EC\n",
    "\n",
    "start_time = time.time()"
   ]
  },
  {
   "cell_type": "markdown",
   "metadata": {},
   "source": [
    "# Các function cần thiết"
   ]
  },
  {
   "cell_type": "code",
   "execution_count": 2,
   "metadata": {},
   "outputs": [],
   "source": [
    "# Lấy ra dataframe từ sql query\n",
    "def get_data_from_sql(query):\n",
    "    server = 'VNSGNBIDC002'\n",
    "    database = 'DR_Report'\n",
    "    engine = create_engine('mssql+pyodbc://' + server + '/' + database + '?trusted_connection=yes&driver=ODBC+Driver+17+for+SQL+Server')\n",
    "    conn = engine.connect()\n",
    "    sql_query = pd.read_sql_query(text(query), conn)\n",
    "    df = pd.DataFrame(sql_query)\n",
    "    conn.close()\n",
    "    return df\n",
    "\n",
    "# Run các câu lệnh trong SQL Query\n",
    "def run_sql_query(query):\n",
    "    server = 'VNSGNBIDC002'\n",
    "    database = 'DR_Report'\n",
    "    engine = create_engine('mssql+pyodbc://' + server + '/' + database + '?trusted_connection=yes&driver=ODBC+Driver+17+for+SQL+Server')\n",
    "    conn = engine.connect()\n",
    "    conn.execute(text(query))\n",
    "    conn.commit()\n",
    "    conn.close()\n",
    "\n",
    "# Remove các file đã tải ngày hôm nay và đã lưu ở folder chỉ định\n",
    "def remove_all_file(start,end,filename):\n",
    "    start_path = os.path.join(start,filename)\n",
    "    end_path = os.path.join(end,filename)\n",
    "    if os.path.isfile(start_path):\n",
    "        os.remove(start_path)\n",
    "        print(\"Đã xóa File Download\")\n",
    "    if os.path.isfile(end_path):\n",
    "        os.remove(end_path)\n",
    "        print(\"Đã xóa File Move\")\n",
    "\n",
    "# Move File mới (update) đến folder chỉ định\n",
    "def move_file(start,end,filename):\n",
    "    start_path = os.path.join(start,filename)\n",
    "    end_path = os.path.join(end,filename)\n",
    "    check = False\n",
    "    while check == False:\n",
    "        if os.path.isfile(start_path):\n",
    "            shutil.copy2(start_path, end,follow_symlinks=True)\n",
    "            os.remove(start_path)\n",
    "            if os.path.isfile(end_path):\n",
    "                check = True\n",
    "                print(\"Download And Move File Success\")\n",
    "        else:\n",
    "            print(\"Download And Move File Failture\")"
   ]
  },
  {
   "cell_type": "markdown",
   "metadata": {},
   "source": [
    "# Các thông tin cần input"
   ]
  },
  {
   "cell_type": "code",
   "execution_count": 3,
   "metadata": {},
   "outputs": [],
   "source": [
    "current_datetime = datetime.now()\n",
    "current_file =  current_datetime.strftime(\"data_ape_%d_%m_%Y.xls\")\n",
    "start = \"C:/Users/HUNGU16/Downloads\"\n",
    "end = \"C:/File_Downloaded_From_Ebao/APE1\"\n",
    "start_path = os.path.join(start,current_file)\n",
    "end_path = os.path.join(end,current_file)"
   ]
  },
  {
   "cell_type": "markdown",
   "metadata": {},
   "source": [
    "# Lấy Year Month dựa trên ngày Cutoff"
   ]
  },
  {
   "cell_type": "code",
   "execution_count": 4,
   "metadata": {},
   "outputs": [],
   "source": [
    "query = '''\n",
    "    DECLARE @CurrentDate DATE = GETDATE()\n",
    "    SELECT*FROM DC_Source.STRUCTURE.Cut_Off\n",
    "    WHERE startdate <= @CurrentDate AND enddate >= @CurrentDate\n",
    "'''\n",
    "df_ym = get_data_from_sql(query)\n",
    "current_ym = df_ym['runnum'].values[0]"
   ]
  },
  {
   "cell_type": "markdown",
   "metadata": {},
   "source": [
    "# DOWWNLOAD AND MOVE FILE"
   ]
  },
  {
   "cell_type": "code",
   "execution_count": 5,
   "metadata": {},
   "outputs": [
    {
     "name": "stdout",
     "output_type": "stream",
     "text": [
      "Download And Move File Success\n"
     ]
    }
   ],
   "source": [
    "input_link = f\"http://vnsgnebao001.chubblife.com.vn/life/servlet/com.acevn.report.general.APE_Report?sAction=DOWNLOAD_EXCEL&p_yearmonth={current_ym}&p_type_ape=1\"\n",
    "remove_all_file(start,end,current_file)\n",
    "check_download = False\n",
    "while check_download == False:\n",
    "    options = webdriver.EdgeOptions()\n",
    "    options.add_experimental_option('excludeSwitches', ['enable-logging'])\n",
    "    s = Service('C:\\Selenium\\msedgedriver.exe')\n",
    "    driver = webdriver.Edge(service=s, options=options)\n",
    "    driver.get(input_link)\n",
    "    username_input = driver.find_element(by = 'name', value = 'userName')\n",
    "    password_input = driver.find_element(by = 'name', value= \"userPassword\")\n",
    "    username_input.send_keys(\"qulai0\")\n",
    "    password_input.send_keys(\"Hcm1234123456789@\")\n",
    "    login_button = driver.find_element(by=\"name\", value=\"loginSubmitButton\")\n",
    "    login_button.click()\n",
    "    time.sleep(20)\n",
    "    if os.path.isfile(start_path):\n",
    "        driver.quit()\n",
    "        check_download = True\n",
    "        move_file(start,end,current_file)\n",
    "    else:\n",
    "        driver.quit()\n",
    "        time.sleep(40)"
   ]
  },
  {
   "cell_type": "markdown",
   "metadata": {},
   "source": [
    "# LOAD DATA TO SQL SERVER"
   ]
  },
  {
   "cell_type": "code",
   "execution_count": 6,
   "metadata": {},
   "outputs": [],
   "source": [
    "# Tạo dataframe\n",
    "df = pd.read_excel(end_path,skiprows=4)\n",
    "current_date = current_datetime.strftime('%d-%m-%Y')\n",
    "df['IMPORT_DATE'] = current_date"
   ]
  },
  {
   "cell_type": "code",
   "execution_count": 7,
   "metadata": {},
   "outputs": [],
   "source": [
    "# Xóa các dòng dữ liệu cũ trước khi update\n",
    "run_sql_query(f\"DELETE FROM [DR_Report].[TMP].[Test_ETL_APE1] WHERE IMPORT_DATE = '{current_date}'\")"
   ]
  },
  {
   "cell_type": "code",
   "execution_count": 8,
   "metadata": {},
   "outputs": [],
   "source": [
    "# Data trước khi update\n",
    "df_start = get_data_from_sql('SELECT*FROM [DR_Report].[TMP].[Test_ETL_APE1]')"
   ]
  },
  {
   "cell_type": "code",
   "execution_count": 9,
   "metadata": {},
   "outputs": [],
   "source": [
    "# Sử dụng các column đang có trong sql cho dataframe\n",
    "data = df[df_start.columns]"
   ]
  },
  {
   "cell_type": "code",
   "execution_count": 10,
   "metadata": {},
   "outputs": [],
   "source": [
    "# Import các dòng dữ liệu mới vào SQL (Có vòng lặp nên phải làm tay)\n",
    "\n",
    "server = 'VNSGNBIDC002'\n",
    "database = 'DR_Report'\n",
    "engine = create_engine('mssql+pyodbc://' + server + '/' + database + '?trusted_connection=yes&driver=ODBC+Driver+17+for+SQL+Server')\n",
    "conn = engine.connect()\n",
    "for index, row in data.iterrows():\n",
    "    conn.execute(\n",
    "        text(\n",
    "            f'''\n",
    "                INSERT INTO [DR_Report].[TMP].[Test_ETL_APE1](\n",
    "                    [ITEM_ID],[POLICY_CODE],[PRODUCT_CODE],[PRODUCT_RATIO],[BASIC_PLAN_CODE],[POLICY_ISSUE_DATE],\n",
    "                    [POLICY_EFF_DATE],[CVG_ISSUE_DATE],[CVG_EFF_DT],[POLICY_ORGAN_ID],[NB],[APE_NOT_TAKEN],\n",
    "                    [APE_INCREASING_FA],[EXCESS_PREM],[TER_RIDER],[DECREASE_SA],[APE_TOTAL],[APE_EFFECTIVE_DATE],\n",
    "                    [APE_AGENT_CODE],[APE_AGENT_ORGAN],[IMPORT_DATE]\n",
    "                ) \n",
    "                VALUES(\n",
    "                    {row['ITEM_ID']},{row['POLICY_CODE']},'{row['PRODUCT_CODE']}',{row['PRODUCT_RATIO']},'{row['BASIC_PLAN_CODE']}','{row['POLICY_ISSUE_DATE']}',\n",
    "                    '{row['POLICY_EFF_DATE']}','{row['CVG_ISSUE_DATE']}','{row['CVG_EFF_DT']}','{row['POLICY_ORGAN_ID']}',{row['NB']},{row['APE_NOT_TAKEN']},\n",
    "                    {row['APE_INCREASING_FA']},{row['EXCESS_PREM']},{row['TER_RIDER']},{row['DECREASE_SA']},{row['APE_TOTAL']},'{row['APE_EFFECTIVE_DATE']}',\n",
    "                    '{row['APE_AGENT_CODE']}','{row['APE_AGENT_ORGAN']}','{row['IMPORT_DATE']}'  \n",
    "                )\n",
    "            '''\n",
    "        )         \n",
    "    )\n",
    "    conn.commit()\n",
    "conn.close()\n",
    "end_time = time.time()\n",
    "total_time = str(int(end_time - start_time)) + 's'"
   ]
  },
  {
   "cell_type": "code",
   "execution_count": 11,
   "metadata": {
    "tags": []
   },
   "outputs": [
    {
     "name": "stdout",
     "output_type": "stream",
     "text": [
      "Tổng thời gian ETL: 185s\n",
      "Tổng số row được update 9491\n"
     ]
    }
   ],
   "source": [
    "# Kiểm tra lại data đã import\n",
    "df_end = get_data_from_sql('SELECT*FROM [DR_Report].[TMP].[Test_ETL_APE1]')\n",
    "change_rows = len(df_end) - len(df_start)\n",
    "text_check = f'Tổng thời gian ETL: {total_time}\\nTổng số row được update {change_rows}' if change_rows > 0 else f'Không có data mới'\n",
    "print(text_check)"
   ]
  },
  {
   "attachments": {},
   "cell_type": "markdown",
   "metadata": {},
   "source": [
    "# Gửi Email thông báo kết quả ETL"
   ]
  },
  {
   "cell_type": "code",
   "execution_count": 12,
   "metadata": {},
   "outputs": [],
   "source": [
    "df_run = pd.DataFrame(\n",
    "    {\n",
    "        'Today': [len(df_end)],\n",
    "        'Yesterday': [len(df_start)],\n",
    "        'Change': [change_rows],\n",
    "        'Run time': [total_time]\n",
    "    }\n",
    ").to_html(index = False)\n",
    "\n",
    "style_table = '''\n",
    "\t<style>\n",
    "\t\ttable {\n",
    "\t\t\tborder:1px solid #b3adad;\n",
    "\t\t\tborder-collapse:collapse;\n",
    "\t\t\tpadding:5px;\n",
    "\t\t}\n",
    "\t\ttable th {\n",
    "\t\t\tborder:1px solid #b3adad;\n",
    "\t\t\tpadding:5px;\n",
    "\t\t\tbackground: #00ff9d;\n",
    "\t\t\tcolor: #313030;\n",
    "\t\t}\n",
    "\t\ttable td {\n",
    "\t\t\tborder:1px solid #b3adad;\n",
    "\t\t\ttext-align:center;\n",
    "\t\t\tpadding:5px;\n",
    "\t\t\tbackground: #ffffff;\n",
    "\t\t\tcolor: #313030;\n",
    "\t\t}\n",
    "\t</style>\n",
    "'''"
   ]
  },
  {
   "cell_type": "code",
   "execution_count": 13,
   "metadata": {},
   "outputs": [],
   "source": [
    "outlook = client.Dispatch('Outlook.Application') \n",
    "olNS = outlook.GetNameSpace('MAPI')\n",
    "email = outlook.CreateItem(0)\n",
    "email.To = 'HuyHoang.Nguyen@Chubb.com;ThiTuongVy.Tran@chubb.com'\n",
    "email.Subject = f'Import Data From EBAO (APE1)'\n",
    "email.Body = f\"Hi mn Iemm đã import data\"\n",
    "email.HTMLBody = f'''\n",
    "    <html><body>\n",
    "        {style_table}\n",
    "        {df_run}\n",
    "    <html><body>\n",
    "'''\n",
    "email.Send()"
   ]
  }
 ],
 "metadata": {
  "kernelspec": {
   "display_name": "Python 3 (ipykernel)",
   "language": "python",
   "name": "python3"
  },
  "language_info": {
   "codemirror_mode": {
    "name": "ipython",
    "version": 3
   },
   "file_extension": ".py",
   "mimetype": "text/x-python",
   "name": "python",
   "nbconvert_exporter": "python",
   "pygments_lexer": "ipython3",
   "version": "3.9.13"
  }
 },
 "nbformat": 4,
 "nbformat_minor": 4
}
